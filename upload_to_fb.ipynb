{
 "cells": [
  {
   "cell_type": "code",
   "execution_count": null,
   "metadata": {},
   "outputs": [],
   "source": [
    "from selenium import webdriver\n",
    "import time\n",
    "import pywinauto\n",
    "import credentials"
   ]
  },
  {
   "cell_type": "markdown",
   "metadata": {},
   "source": [
    "# Upload to fb"
   ]
  },
  {
   "cell_type": "code",
   "execution_count": null,
   "metadata": {},
   "outputs": [],
   "source": [
    "driver = webdriver.Chrome(\"C:/Users/Desktop/rybnik/chromedriver_win32/chromedriver.exe\")\n",
    "\n",
    "#go to webpage\n",
    "driver.get(\"https://m.facebook.com/powietrzewrybniku\")\n",
    "time.sleep(5)\n",
    "\n",
    "#login\n",
    "elem = driver.find_element_by_id(\"mobile_login_bar\")\n",
    "elem.click()\n",
    "time.sleep(5)\n",
    "\n",
    "elem = driver.find_element_by_id(\"m_login_email\")\n",
    "elem.click()\n",
    "elem.clear()\n",
    "elem.send_keys(credentials.login)\n",
    "time.sleep(1)\n",
    "\n",
    "elem = driver.find_element_by_id(\"m_login_password\")\n",
    "elem.click()\n",
    "elem.send_keys(credentials.password)\n",
    "time.sleep(1)\n",
    "\n",
    "elem = driver.find_element_by_name(\"login\")\n",
    "elem.click()\n",
    "time.sleep(8)\n",
    "\n",
    "#publishing part\n",
    "try:\n",
    "    elem= driver.find_element_by_xpath(\"//*[@id='action_bar']/div[2]\")\n",
    "    elem.click()\n",
    "\n",
    "except:\n",
    "    elem = driver.find_element_by_xpath(\"//*[@id='unit_id_1536492809980651']/div/div\")\n",
    "    elem.click()\n",
    "    time.sleep(3)\n",
    "    elem = driver.find_element_by_xpath(\"//*[@id='structured_composer_form']/div[5]/div/div[1]/button[1]\")\n",
    "    elem.click()\n",
    "\n",
    "time.sleep(2)\n",
    "\n",
    "#pywin part\n",
    "pwa_app = pywinauto.application.Application().connect(title_re=\"Open\")\n",
    "time.sleep(3)\n",
    "\n",
    "#upload photo with pm10 measurements\n",
    "pwa_app.OpenDialog.Edit.SetText(\"C:\\\\Users\\\\Desktop\\\\rybnik\\\\pictures\\\\cur_pm10_%s.png\"%current_time_to_file)\n",
    "time.sleep(1)\n",
    "pwa_app.OpenDialog.Button.click()\n",
    "time.sleep(5)\n",
    "\n",
    "elem = driver.find_element_by_name(\"status\")\n",
    "elem.click()\n",
    "time.sleep(1)\n",
    "\n",
    "#print message\n",
    "elem.send_keys(message_to_print)\n",
    "time.sleep(10)\n",
    "\n",
    "#publish\n",
    "elem = driver.find_element_by_xpath(\"//*[@id='composer-main-view-id']/div[1]/div/div[3]/div/button[1]\")\n",
    "elem.click()\n",
    "\n",
    "#close\n",
    "time.sleep(12)\n",
    "driver.close()"
   ]
  }
 ],
 "metadata": {
  "kernelspec": {
   "display_name": "rybnik_air",
   "language": "python",
   "name": "rybnik_air"
  },
  "language_info": {
   "codemirror_mode": {
    "name": "ipython",
    "version": 2
   },
   "file_extension": ".py",
   "mimetype": "text/x-python",
   "name": "python",
   "nbconvert_exporter": "python",
   "pygments_lexer": "ipython2",
   "version": "2.7.16"
  }
 },
 "nbformat": 4,
 "nbformat_minor": 2
}
